{
 "cells": [
  {
   "cell_type": "code",
   "execution_count": null,
   "id": "b4d99070",
   "metadata": {},
   "outputs": [],
   "source": [
    "\"\"\"\n",
    "1) What is the difference between enclosing a list comprehension in square brackets and parentheses?\n",
    "Answer:\n",
    "A List Comprehension, just like the plain range function, executes immediately and returns a list.\n",
    "A Generator Expression, just like xrange returns and object that can be iterated over.\n",
    "EX:\n",
    "l = [n*2 for n in range(1000)] # List comprehension\n",
    "g = (n*2 for n in range(1000))  # Generator expression\n",
    "\n",
    "\n",
    "2) What is the relationship between generators and iterators?\n",
    "Answer:\n",
    "Generators: It is another way of creating iterators in a simple way where it uses the keyword “yield” instead of \n",
    "returning it in a defined function. Generators are implemented using a function. Just as iterators, generators \n",
    "also follow lazy evaluation. Here, the yield function returns the data without affecting or exiting the function. \n",
    "It will return a sequence of data in an iterable format where we need to iterate over the sequence to use the data\n",
    "as they won’t store the entire sequence in the memory.\n",
    "Iterator: An iterator is an object which contains a countable number of values and it is used to iterate over \n",
    "iterable objects like list, tuples, sets, etc. Iterators are implemented using a class and a local variable for \n",
    "iterating is not required here, It follows lazy evaluation where the evaluation of the expression will be on hold \n",
    "and stored in the memory until the item is called specifically which helps us to avoid repeated evaluation. \n",
    "As lazy evaluation is implemented, it requires only 1 memory location to process the value and when we are using \n",
    "a large dataset then, wastage of RAM space will be reduced the need to load the entire dataset at the same time \n",
    "will not be there.\n",
    "\n",
    "\n",
    "3) What are the signs that a function is a generator function?\n",
    "Answer: Generator uses yield keyword\n",
    "\n",
    "\n",
    "4) What is the purpose of a yield statement?\n",
    "Answer: Python generator saves the states of the local variables every time ‘yield’ pauses the loop in python. \\\n",
    "An iterator does not make use of local variables, all it needs is iterable to iterate on.\n",
    "\n",
    "\n",
    "5) What is the relationship between map calls and list comprehensions? Make a comparison and contrast between \n",
    "the two.\n",
    "Answer:\n",
    "1) List comprehension is more concise and easier to read as compared to map.\n",
    "2) List comprehension allows filtering. In map, we have no such facility. For example, to print all even numbers \n",
    "in range of 100, we can write [n for n in range(100) if n%2 == 0]. There is no alternate for it in map\n",
    "3) List comprehension are used when a list of results is required as map only returns a map object and does not \n",
    "return any list.\n",
    "4) List comprehension is faster than map when we need to evaluate expressions that are too long or complicated to \n",
    "express\n",
    "5) Map is faster in case of calling an already defined function (as no lambda is required).\n",
    "\n",
    "\"\"\""
   ]
  },
  {
   "cell_type": "code",
   "execution_count": null,
   "id": "405cd501",
   "metadata": {},
   "outputs": [],
   "source": []
  },
  {
   "cell_type": "code",
   "execution_count": null,
   "id": "1e39997c",
   "metadata": {},
   "outputs": [],
   "source": []
  },
  {
   "cell_type": "code",
   "execution_count": null,
   "id": "a7022e61",
   "metadata": {},
   "outputs": [],
   "source": []
  }
 ],
 "metadata": {
  "kernelspec": {
   "display_name": "Python 3",
   "language": "python",
   "name": "python3"
  },
  "language_info": {
   "codemirror_mode": {
    "name": "ipython",
    "version": 3
   },
   "file_extension": ".py",
   "mimetype": "text/x-python",
   "name": "python",
   "nbconvert_exporter": "python",
   "pygments_lexer": "ipython3",
   "version": "3.8.8"
  }
 },
 "nbformat": 4,
 "nbformat_minor": 5
}
