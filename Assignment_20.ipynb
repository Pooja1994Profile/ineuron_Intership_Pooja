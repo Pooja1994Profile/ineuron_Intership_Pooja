{
 "cells": [
  {
   "cell_type": "code",
   "execution_count": null,
   "id": "200cf102",
   "metadata": {},
   "outputs": [],
   "source": [
    "\"\"\"\n",
    "1. Set the variable test1 to the string 'This is a test of the emergency text system,' and save test1 to a \n",
    "file named test.txt.\n",
    "\"\"\"\n",
    "outfile = open('test.txt', 'wt')\n",
    "outfile.write(test)\n",
    "outfile.close()"
   ]
  },
  {
   "cell_type": "code",
   "execution_count": null,
   "id": "88946f91",
   "metadata": {
    "scrolled": true
   },
   "outputs": [],
   "source": [
    "\"\"\"\n",
    "2. Read the contents of the file test.txt into the variable test2. Is there a difference between test 1 and test 2?\n",
    "\"\"\"\n",
    "test2 = open(\"test.txt\", \"r\")\n",
    "print(test2.read())"
   ]
  },
  {
   "cell_type": "code",
   "execution_count": null,
   "id": "50ddd49e",
   "metadata": {},
   "outputs": [],
   "source": [
    "\"\"\"\n",
    "3. Create a CSV file called books.csv by using these lines:\n",
    "\"\"\"\n",
    "text = \"\"\"title,author,year\n",
    "The Weirdstone of Brisingamen,Alan Garner,1960\n",
    "Perdido Street Station,China Miéville,2000\n",
    "Thud!,Terry Pratchett,2005\n",
    "The Spellman Files,Lisa Lutz,2007\n",
    "Small Gods,Terry Pratchett,1992\n",
    "\"\"\"\n",
    "with open('books.csv', 'wt') as outfile:    \n",
    "    outfile.write(text)"
   ]
  },
  {
   "cell_type": "code",
   "execution_count": null,
   "id": "95da2323",
   "metadata": {},
   "outputs": [],
   "source": [
    "\"\"\"\n",
    "4. Use the sqlite3 module to create a SQLite database called books.db, and \n",
    "a table called books with these fields: title (text), author (text), and year (integer).\n",
    "\"\"\"\n",
    "\n",
    "import sqlite3\n",
    "\n",
    "db = sqlite3.connect('books.db')\n",
    "\n",
    "cursor = db.cursor()\n",
    "cursor.execute('''CREATE TABLE books(id INTEGER PRIMARY KEY, title TEXT, author TEXT, year TEXT)''')\n",
    "db.commit()\n"
   ]
  },
  {
   "cell_type": "code",
   "execution_count": null,
   "id": "e2463584",
   "metadata": {},
   "outputs": [],
   "source": [
    "\"\"\"\n",
    "5. Read books.csv and insert its data into the book table.\n",
    "\"\"\"\n",
    "\n",
    "f = open(\"books.csv\", \"r\")\n",
    "for x in f:\n",
    "    #print(x.replace('\\n','').split(','))\n",
    "    cursor.execute('''INSERT INTO books(title, author, year) VALUES(:title, :author, :year)''',\n",
    "    {'title':x.replace('\\n','').split(',')[0], 'author':x.replace('\\n','').split(',')[1],'year':x.replace('\\n','').split(',')[2]})"
   ]
  },
  {
   "cell_type": "code",
   "execution_count": null,
   "id": "0cb64b67",
   "metadata": {},
   "outputs": [],
   "source": [
    "\"\"\"\n",
    "6. Select and print the title column from the book table in alphabetical order.\n",
    "\"\"\"\n",
    "for row in db.execute('select title from books order by title asc'):   \n",
    "    print(row)"
   ]
  },
  {
   "cell_type": "code",
   "execution_count": null,
   "id": "cad368cc",
   "metadata": {},
   "outputs": [],
   "source": [
    "\"\"\"\n",
    "7. From the book table, select and print all columns in the order of publication.\n",
    "\"\"\"\n",
    "for row in db.execute('select * from books order by year'):\n",
    "    print(row)"
   ]
  },
  {
   "cell_type": "code",
   "execution_count": null,
   "id": "5ad28ebe",
   "metadata": {},
   "outputs": [],
   "source": [
    "\"\"\"\n",
    "8. Use the sqlalchemy module to connect to the sqlite3 database books.db that you just made in exercise 6.\n",
    "\"\"\"\n",
    "\n",
    "import sqlalchemy \n",
    "conn = sqlalchemy.create_engine('sqlite:///books.db')\n",
    "sql = 'select title from book order by title asc'\n",
    "rows = conn.execute(sql)\n",
    "for row in rows:\n",
    "    print(row)\n"
   ]
  },
  {
   "cell_type": "code",
   "execution_count": null,
   "id": "f1c91739",
   "metadata": {},
   "outputs": [],
   "source": [
    "\"\"\"\n",
    "9. Install the Redis server and the Python redis library (pip install redis) on your computer. \n",
    "Create a Redis hash called test with the fields count (1) and name ('Fester Bestertester'). \n",
    "Print all the fields for test.\n",
    "\"\"\"\n",
    "import redis\n",
    "conn = redis.Redis()\n",
    "conn.delete('test')\n",
    "conn.hmset('test', {'count': 1, 'name': 'Fester Bestertester'})\n",
    "conn.hgetall('test')"
   ]
  },
  {
   "cell_type": "code",
   "execution_count": null,
   "id": "d149864d",
   "metadata": {},
   "outputs": [],
   "source": [
    "\"\"\"\n",
    "10. Increment the count field of test and print it.\n",
    "\"\"\"\n",
    "conn.hincrby('test', 'count', 3)\n",
    "\n",
    "conn.hget('test', 'count')\n"
   ]
  },
  {
   "cell_type": "code",
   "execution_count": null,
   "id": "ec645318",
   "metadata": {},
   "outputs": [],
   "source": []
  }
 ],
 "metadata": {
  "kernelspec": {
   "display_name": "Python 3",
   "language": "python",
   "name": "python3"
  },
  "language_info": {
   "codemirror_mode": {
    "name": "ipython",
    "version": 3
   },
   "file_extension": ".py",
   "mimetype": "text/x-python",
   "name": "python",
   "nbconvert_exporter": "python",
   "pygments_lexer": "ipython3",
   "version": "3.8.8"
  }
 },
 "nbformat": 4,
 "nbformat_minor": 5
}
