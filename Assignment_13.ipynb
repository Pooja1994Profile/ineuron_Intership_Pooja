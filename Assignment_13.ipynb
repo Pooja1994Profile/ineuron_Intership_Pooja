{
 "cells": [
  {
   "cell_type": "code",
   "execution_count": null,
   "id": "b1beb4da",
   "metadata": {},
   "outputs": [],
   "source": [
    "\"\"\"\n",
    "1. What advantages do Excel spreadsheets have over CSV spreadsheets?\n",
    "Answer:\n",
    "CSV file can't perform operations on data while Excel can perform operations on the data. \n",
    "CSV files are faster and also consumes less memory whereas Excel consumes more memory while importing data. \n",
    "CSV files can be opened with any text editor in windows while Excel files can't be opened with text editors.\n",
    "\n",
    "\n",
    "2.What do you pass to csv.reader() and csv.writer() to create reader and writer objects?\n",
    "Answer:\n",
    "You pass a File object, obtained from a call to open()\n",
    "\n",
    "\n",
    "3. What modes do File objects for reader and writer objects need to be opened in?\n",
    "Answer:\n",
    "File objects need to be opened in read-binary ('rb') for Reader objects and write-binary ('wb') for Writer objects\n",
    "\n",
    "\n",
    "4. What method takes a list argument and writes it to a CSV file?\n",
    "Answer:\n",
    "The writerow() method\n",
    "\n",
    "\n",
    "5. What do the keyword arguments delimiter and line terminator do?\n",
    "Answer: The delimiter argument changes the string used to separate cells in a row. \n",
    "The lineterminator argument changes the string used to separate rows.\n",
    "\n",
    "\n",
    "6. What function takes a string of JSON data and returns a Python data structure?\n",
    "Answer:\n",
    "json.loads()\n",
    "\n",
    "\n",
    "7. What function takes a Python data structure and returns a string of JSON data?\n",
    "Answer:\n",
    "json.dumps()\n",
    "\n",
    "\n",
    "\"\"\""
   ]
  },
  {
   "cell_type": "code",
   "execution_count": null,
   "id": "14a7cf45",
   "metadata": {},
   "outputs": [],
   "source": []
  },
  {
   "cell_type": "code",
   "execution_count": null,
   "id": "7f76d172",
   "metadata": {},
   "outputs": [],
   "source": []
  },
  {
   "cell_type": "code",
   "execution_count": null,
   "id": "de671f29",
   "metadata": {},
   "outputs": [],
   "source": []
  }
 ],
 "metadata": {
  "kernelspec": {
   "display_name": "Python 3",
   "language": "python",
   "name": "python3"
  },
  "language_info": {
   "codemirror_mode": {
    "name": "ipython",
    "version": 3
   },
   "file_extension": ".py",
   "mimetype": "text/x-python",
   "name": "python",
   "nbconvert_exporter": "python",
   "pygments_lexer": "ipython3",
   "version": "3.8.8"
  }
 },
 "nbformat": 4,
 "nbformat_minor": 5
}
