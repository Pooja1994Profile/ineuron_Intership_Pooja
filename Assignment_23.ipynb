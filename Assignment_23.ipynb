{
 "cells": [
  {
   "cell_type": "code",
   "execution_count": 1,
   "id": "27942292",
   "metadata": {},
   "outputs": [
    {
     "name": "stdout",
     "output_type": "stream",
     "text": [
      "1 2 8\n"
     ]
    }
   ],
   "source": [
    "\"\"\"\n",
    "1. What is the result of the code, and why? \"\"\"\n",
    "def func(a, b=6, c=8):\n",
    "    print(a, b, c)\n",
    "func(1, 2)\n",
    "#Answer: a is positional argument and b,c are keyword arguments "
   ]
  },
  {
   "cell_type": "code",
   "execution_count": 2,
   "id": "55fd3fde",
   "metadata": {},
   "outputs": [
    {
     "name": "stdout",
     "output_type": "stream",
     "text": [
      "1 2 3\n"
     ]
    }
   ],
   "source": [
    "\"\"\"\n",
    "2. What is the result of this code, and why?\"\"\"\n",
    "def func(a, b, c=5):\n",
    "    print(a, b, c)\n",
    "func(1, c=3, b=2)\n",
    "#Answer: a is positional argument and b,c are keyword arguments "
   ]
  },
  {
   "cell_type": "code",
   "execution_count": 3,
   "id": "9cbeeb5d",
   "metadata": {},
   "outputs": [
    {
     "name": "stdout",
     "output_type": "stream",
     "text": [
      "1 (2, 3)\n"
     ]
    }
   ],
   "source": [
    "\"\"\"\n",
    "3. How about this code: what is its result, and why?\"\"\"\n",
    "def func(a, *pargs):\n",
    "    print(a, pargs)\n",
    "func(1, 2, 3)\n",
    "#Answer:\n",
    "#*args is used to send a non-keyworded variable length argument list to the function and a is positional argument"
   ]
  },
  {
   "cell_type": "code",
   "execution_count": 4,
   "id": "f1c42a2e",
   "metadata": {},
   "outputs": [
    {
     "name": "stdout",
     "output_type": "stream",
     "text": [
      "1 {'c': 3, 'b': 2}\n"
     ]
    }
   ],
   "source": [
    "\"\"\"\n",
    "4. What does this code print, and why?\"\"\"\n",
    "def func(a, **kargs):\n",
    "    print(a, kargs)\n",
    "func(a=1, c=3, b=2)\n",
    "#Answer: a is positional argument and \n",
    "#**kwargs allows you to pass keyworded variable length of arguments to a function: c=3, b=2 are **kwargs"
   ]
  },
  {
   "cell_type": "code",
   "execution_count": 7,
   "id": "61525c5a",
   "metadata": {},
   "outputs": [
    {
     "name": "stdout",
     "output_type": "stream",
     "text": [
      "1 5 6 5\n"
     ]
    }
   ],
   "source": [
    "\"\"\"\n",
    "5. What gets printed by this, and explain?\"\"\"\n",
    "def func(a, b, c=8, d=5):\n",
    "    print(a, b, c, d)\n",
    "func(1, *(5, 6))\n",
    "#Answer: a and b are positional argument whereas c and d are keyword arguments "
   ]
  },
  {
   "cell_type": "code",
   "execution_count": 9,
   "id": "aa76c712",
   "metadata": {},
   "outputs": [
    {
     "data": {
      "text/plain": [
       "(1, ['x'], {'a': 'y'})"
      ]
     },
     "execution_count": 9,
     "metadata": {},
     "output_type": "execute_result"
    }
   ],
   "source": [
    "\"\"\"\n",
    "6. what is the result of this, and explain?\"\"\"\n",
    "def func(a, b, c): \n",
    "    a = 2; \n",
    "    b[0] = 'x'; \n",
    "    c['a'] = 'y'\n",
    "    \n",
    "l=1; m=[1]; n={'a':0}\n",
    "\n",
    "func(l, m, n)\n",
    "l, m, n\n",
    "#Answer: l, m, n are positional argument and l passes integer, m passes list and n passes dictionary"
   ]
  },
  {
   "cell_type": "code",
   "execution_count": null,
   "id": "7e73c372",
   "metadata": {},
   "outputs": [],
   "source": []
  },
  {
   "cell_type": "code",
   "execution_count": null,
   "id": "f5ae80c7",
   "metadata": {},
   "outputs": [],
   "source": []
  },
  {
   "cell_type": "code",
   "execution_count": null,
   "id": "b47c313b",
   "metadata": {},
   "outputs": [],
   "source": []
  }
 ],
 "metadata": {
  "kernelspec": {
   "display_name": "Python 3",
   "language": "python",
   "name": "python3"
  },
  "language_info": {
   "codemirror_mode": {
    "name": "ipython",
    "version": 3
   },
   "file_extension": ".py",
   "mimetype": "text/x-python",
   "name": "python",
   "nbconvert_exporter": "python",
   "pygments_lexer": "ipython3",
   "version": "3.8.8"
  }
 },
 "nbformat": 4,
 "nbformat_minor": 5
}
