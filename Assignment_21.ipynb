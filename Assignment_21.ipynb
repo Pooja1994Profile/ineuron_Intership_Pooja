{
 "cells": [
  {
   "cell_type": "code",
   "execution_count": 2,
   "id": "2c995e53",
   "metadata": {},
   "outputs": [],
   "source": [
    "\"\"\"\n",
    "1. Add the current date to the text file today.txt as a string.\n",
    "\"\"\"\n",
    "import datetime\n",
    "f = open(\"today.txt\", \"w\")\n",
    "\n",
    "f.write(datetime.datetime.now().strftime(\"%d %B %Y\"))\n",
    "f.close()"
   ]
  },
  {
   "cell_type": "code",
   "execution_count": 5,
   "id": "d9493d5b",
   "metadata": {},
   "outputs": [
    {
     "name": "stdout",
     "output_type": "stream",
     "text": [
      "11 June 2021\n"
     ]
    }
   ],
   "source": [
    "\"\"\"\n",
    "2. Read the text file today.txt into the string today_string\n",
    "\"\"\"\n",
    "today_string = open(\"today.txt\", \"r\")\n",
    "print(today_string.read())"
   ]
  },
  {
   "cell_type": "code",
   "execution_count": null,
   "id": "abef8911",
   "metadata": {},
   "outputs": [],
   "source": [
    "\"\"\"\n",
    "3. Parse the date from today_string.\n",
    "\"\"\"\n",
    "today_string = "
   ]
  },
  {
   "cell_type": "code",
   "execution_count": 8,
   "id": "3f18e140",
   "metadata": {},
   "outputs": [
    {
     "name": "stdout",
     "output_type": "stream",
     "text": [
      "['Assignment_5.docx', 'Assignment_12.docx', '.ipynb_checkpoints', 'Assignment_8.ipynb', 'Assignment_24.docx', 'Assignment_20.docx', 'Assignment_15.docx', 'Assignment_16.docx', 'Assignment_6.ipynb', 'Assignment_19.ipynb', 'Assignment_7.docx', 'Assignment_21.ipynb', 'Assignment_13.docx', 'Assignment_4.ipynb', 'Assignment_24.ipynb', 'Assignment_22.ipynb', 'Assignment_18.ipynb', 'Assignment_8.docx', 'Assignment_23.docx', 'Assignment_9.docx', 'Assignment_11.docx', 'Assignment_14.docx', 'Assignment_9.ipynb', 'Assignment_25.docx', 'Assignment1.ipynb', 'Assignment_16.ipynb', 'Assignment_2.docx', 'zoo.py', 'today.txt', 'Assignment_1.docx', 'Assignment_11.ipynb', 'Assignment_5.ipynb', 'Assignment_17.docx', 'books.csv', 'Assignment_19.docx', 'Assignment_4.docx', 'Assignment_14.ipynb', 'Assignment_15.ipynb', 'Assignment_10.ipynb', 'Assignment_2.ipynb', '__pycache__', 'Assignment_3.ipynb', 'Assignment_7.ipynb', 'NIU.ipynb', 'books.db', 'Assignment_23.ipynb', 'Assignment_12.ipynb', 'Assignment_13.ipynb', 'Assignment_20.ipynb', 'Assignment_10.docx', 'Assignment_6.docx', 'Assignment_3.docx', 'Assignment_17.ipynb', 'Assignment_18.docx', 'test.txt', 'Assignment_21.docx', 'Assignment_22.docx', 'Assignment_25.ipynb']\n"
     ]
    }
   ],
   "source": [
    "\"\"\"\n",
    "4. List the files in your current directory\n",
    "\"\"\"\n",
    "import os\n",
    "arr = os.listdir('.')\n",
    "print(arr)\n"
   ]
  },
  {
   "cell_type": "code",
   "execution_count": 9,
   "id": "a0215547",
   "metadata": {},
   "outputs": [
    {
     "name": "stdout",
     "output_type": "stream",
     "text": [
      "['Assignment_5.docx', 'Assignment_12.docx', '.ipynb_checkpoints', 'Assignment_8.ipynb', 'Assignment_24.docx']\n"
     ]
    }
   ],
   "source": [
    "\"\"\"\n",
    "5. Create a list of all of the files in your parent directory (minimum five files should be available).\n",
    "\"\"\"\n",
    "arr = os.listdir('.')[:5]\n",
    "print(arr)"
   ]
  },
  {
   "cell_type": "code",
   "execution_count": 10,
   "id": "590c8d7b",
   "metadata": {},
   "outputs": [
    {
     "name": "stdout",
     "output_type": "stream",
     "text": [
      "Started worker computer_1Started worker computer_0\n",
      "\n",
      "Started worker computer_4\n",
      "Started worker computer_3Started worker computer_2\n",
      "\n",
      "computer_0 worker finished in 1 seconds\n",
      "Started worker computer_5\n",
      "computer_2 worker finished in 1 seconds\n",
      "Started worker computer_6\n",
      "computer_5 worker finished in 1 seconds\n",
      "Started worker computer_7\n",
      "computer_1 worker finished in 3 seconds\n",
      "Started worker computer_8computer_4 worker finished in 3 seconds\n",
      "Started worker computer_9\n",
      "\n",
      "computer_3 worker finished in 3 seconds\n",
      "Started worker computer_10computer_6 worker finished in 2 seconds\n",
      "\n",
      "Started worker computer_11\n",
      "computer_9 worker finished in 2 seconds\n",
      "Started worker computer_12\n",
      "computer_8 worker finished in 3 seconds\n",
      "Started worker computer_13computer_7 worker finished in 4 seconds\n",
      "\n",
      "Started worker computer_14\n",
      "computer_12 worker finished in 2 seconds\n",
      "computer_10 worker finished in 4 seconds\n",
      "computer_11 worker finished in 4 seconds\n",
      "computer_14 worker finished in 2 seconds\n",
      "computer_13 worker finished in 4 seconds\n"
     ]
    }
   ],
   "source": [
    "\"\"\"\n",
    "6. Use multiprocessing to create three separate processes. Make each one wait a random number of seconds \n",
    "between one and five, print the current time, and then exit.\n",
    "\"\"\"\n",
    "import random\n",
    "import time\n",
    "from multiprocessing import Pool\n",
    "def worker(name: str) -> None:\n",
    "    print(f'Started worker {name}')\n",
    "    worker_time = random.choice(range(1, 5))\n",
    "    time.sleep(worker_time)\n",
    "    print(f'{name} worker finished in {worker_time} seconds')\n",
    "    \n",
    "if __name__ == '__main__':\n",
    "    process_names = [f'computer_{i}' for i in range(15)]\n",
    "    pool = Pool(processes=5)\n",
    "    pool.map(worker, process_names)\n",
    "    pool.terminate()"
   ]
  },
  {
   "cell_type": "code",
   "execution_count": 14,
   "id": "6c63ac6b",
   "metadata": {},
   "outputs": [
    {
     "name": "stdout",
     "output_type": "stream",
     "text": [
      "Enter your date of birth: 23\n",
      "Day: 23\n"
     ]
    }
   ],
   "source": [
    "\"\"\"\n",
    "7. Create a date object of your day of birth.\n",
    "\"\"\"\n",
    "from datetime import datetime\n",
    "\n",
    "birthday = input(\"Enter your date of birth: \")\n",
    "\n",
    "bday = datetime.strptime(birthday, '%d')\n",
    "\n",
    "print(f'Day: {bday.day}')"
   ]
  },
  {
   "cell_type": "code",
   "execution_count": 15,
   "id": "e46f9dda",
   "metadata": {},
   "outputs": [
    {
     "name": "stdout",
     "output_type": "stream",
     "text": [
      "Sunday\n"
     ]
    }
   ],
   "source": [
    "\"\"\"\n",
    "8. What day of the week was your day of birth?\n",
    "\"\"\"\n",
    "import datetime\n",
    "import calendar\n",
    "\n",
    "def findDay(date):\n",
    "    born = datetime.datetime.strptime(date, '%d %m %Y').weekday()\n",
    "    return (calendar.day_name[born])\n",
    "\n",
    "\n",
    "date = '03 02 2019'\n",
    "print(findDay(date))\n"
   ]
  },
  {
   "cell_type": "code",
   "execution_count": 20,
   "id": "ae2555a2",
   "metadata": {},
   "outputs": [
    {
     "name": "stdout",
     "output_type": "stream",
     "text": [
      "Enter your date of birth: 23 10 1994\n",
      "10,000 days old in  2022-03-10 00:00:00\n"
     ]
    }
   ],
   "source": [
    "\"\"\"\n",
    "9. When will you be (or when were you) 10,000 days old?\n",
    "\"\"\"\n",
    "from datetime import datetime, timedelta\n",
    "\n",
    "birthday = input(\"Enter your date of birth: \")\n",
    "\n",
    "bday = datetime.strptime(birthday, '%d %m %Y') + timedelta(10000)\n",
    "\n",
    "print('10,000 days old in ',bday)"
   ]
  },
  {
   "cell_type": "code",
   "execution_count": null,
   "id": "a0526909",
   "metadata": {},
   "outputs": [],
   "source": []
  },
  {
   "cell_type": "code",
   "execution_count": null,
   "id": "5248ba86",
   "metadata": {},
   "outputs": [],
   "source": []
  }
 ],
 "metadata": {
  "kernelspec": {
   "display_name": "Python 3",
   "language": "python",
   "name": "python3"
  },
  "language_info": {
   "codemirror_mode": {
    "name": "ipython",
    "version": 3
   },
   "file_extension": ".py",
   "mimetype": "text/x-python",
   "name": "python",
   "nbconvert_exporter": "python",
   "pygments_lexer": "ipython3",
   "version": "3.8.8"
  }
 },
 "nbformat": 4,
 "nbformat_minor": 5
}
