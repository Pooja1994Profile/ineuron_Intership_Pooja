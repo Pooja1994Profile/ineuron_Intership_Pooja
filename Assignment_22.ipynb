{
 "cells": [
  {
   "cell_type": "code",
   "execution_count": 3,
   "id": "c534018c",
   "metadata": {},
   "outputs": [
    {
     "name": "stdout",
     "output_type": "stream",
     "text": [
      "iNeuron\n"
     ]
    }
   ],
   "source": [
    "\"\"\"\n",
    "1. What is the result of the code, and explain?\n",
    "\"\"\"\n",
    "\n",
    "X = 'iNeuron'\n",
    "def func():\n",
    "    print(X)\n",
    "\n",
    "func()\n",
    "\n",
    "#Answer: X is the global variable, can be used inside function"
   ]
  },
  {
   "cell_type": "code",
   "execution_count": 4,
   "id": "dedfe603",
   "metadata": {},
   "outputs": [
    {
     "name": "stdout",
     "output_type": "stream",
     "text": [
      "iNeuron\n"
     ]
    }
   ],
   "source": [
    "\"\"\"\n",
    "2. What is the result of the code, and explain?\n",
    "\"\"\"\n",
    "X = 'iNeuron'\n",
    "def func():\n",
    "    X = 'NI!'\n",
    "\n",
    "func()\n",
    "print(X)\n",
    "#Answer: X is the global and local variable, but it call outsite the function.So, global variable called"
   ]
  },
  {
   "cell_type": "code",
   "execution_count": 7,
   "id": "b6168bef",
   "metadata": {},
   "outputs": [
    {
     "name": "stdout",
     "output_type": "stream",
     "text": [
      "NI\n",
      "iNeuron\n"
     ]
    }
   ],
   "source": [
    "\"\"\"\n",
    "3. What does this code print, and why?\n",
    "\"\"\"\n",
    "X = 'iNeuron'\n",
    "def func():\n",
    "    X = 'NI'\n",
    "    print(X)\n",
    "\n",
    "func()\n",
    "print(X)\n",
    "\n",
    "#Answer: X is the global and local variable. Here, it call both X varible called."
   ]
  },
  {
   "cell_type": "code",
   "execution_count": 10,
   "id": "55797477",
   "metadata": {},
   "outputs": [
    {
     "name": "stdout",
     "output_type": "stream",
     "text": [
      "NI\n"
     ]
    }
   ],
   "source": [
    "\"\"\"\n",
    "4. What output does this code produce? Why?\n",
    "\"\"\"\n",
    "X = 'iNeuron'\n",
    "def func():\n",
    "    global X\n",
    "    X = 'NI'\n",
    "\n",
    "func()\n",
    "print(X)\n",
    "#Answer: X is the global but call inside function and update it. So, it updated."
   ]
  },
  {
   "cell_type": "code",
   "execution_count": 16,
   "id": "542dee08",
   "metadata": {},
   "outputs": [
    {
     "name": "stdout",
     "output_type": "stream",
     "text": [
      "iNeuron\n"
     ]
    },
    {
     "data": {
      "text/plain": [
       "'iNeuron'"
      ]
     },
     "execution_count": 16,
     "metadata": {},
     "output_type": "execute_result"
    }
   ],
   "source": [
    "\"\"\"\n",
    "5. What about this code—what’s the output, and why?\n",
    "\"\"\"\n",
    "X = 'iNeuron'\n",
    "def func():\n",
    "    X = 'NI'\n",
    "def nested():\n",
    "    print(X)\n",
    "\n",
    "nested()\n",
    "func()\n",
    "X\n",
    "#Answer: X is the global and local variable. Here, it call both X varible called."
   ]
  },
  {
   "cell_type": "code",
   "execution_count": 18,
   "id": "6412b60f",
   "metadata": {},
   "outputs": [
    {
     "ename": "SyntaxError",
     "evalue": "no binding for nonlocal 'X' found (<ipython-input-18-cb17624e1b0a>, line 8)",
     "output_type": "error",
     "traceback": [
      "\u001b[0;36m  File \u001b[0;32m\"<ipython-input-18-cb17624e1b0a>\"\u001b[0;36m, line \u001b[0;32m8\u001b[0m\n\u001b[0;31m    nonlocal X\u001b[0m\n\u001b[0m    ^\u001b[0m\n\u001b[0;31mSyntaxError\u001b[0m\u001b[0;31m:\u001b[0m no binding for nonlocal 'X' found\n"
     ]
    }
   ],
   "source": [
    "\"\"\"\n",
    "6. How about this code: what is its output in Python 3, and explain?\n",
    "\"\"\"\n",
    "def func():\n",
    "    X = 'NI'\n",
    "    \n",
    "def nested():\n",
    "    nonlocal X\n",
    "    X = 'Spam'\n",
    "    \n",
    "nested()\n",
    "print(X)\n",
    "\n",
    "func()\n",
    "#Answer: X not define "
   ]
  },
  {
   "cell_type": "code",
   "execution_count": null,
   "id": "5ab7af15",
   "metadata": {},
   "outputs": [],
   "source": []
  },
  {
   "cell_type": "code",
   "execution_count": null,
   "id": "15c00a11",
   "metadata": {},
   "outputs": [],
   "source": []
  }
 ],
 "metadata": {
  "kernelspec": {
   "display_name": "Python 3",
   "language": "python",
   "name": "python3"
  },
  "language_info": {
   "codemirror_mode": {
    "name": "ipython",
    "version": 3
   },
   "file_extension": ".py",
   "mimetype": "text/x-python",
   "name": "python",
   "nbconvert_exporter": "python",
   "pygments_lexer": "ipython3",
   "version": "3.8.8"
  }
 },
 "nbformat": 4,
 "nbformat_minor": 5
}
