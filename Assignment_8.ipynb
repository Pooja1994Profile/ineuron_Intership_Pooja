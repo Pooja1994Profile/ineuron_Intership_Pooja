{
 "cells": [
  {
   "cell_type": "code",
   "execution_count": null,
   "id": "ecb84010",
   "metadata": {},
   "outputs": [],
   "source": [
    "\"\"\"\n",
    "1. Is the Python Standard Library included with PyInputPlus?\n",
    "Answer:PyInputPlus is not a part of the Python Standard Library, need to include using pip install PyInputPlus\n",
    "\n",
    "\n",
    "2. Why is PyInputPlus commonly imported with import pyinputplus as pypi?\n",
    "Answer:  The as pyip code in the import statement saves us from typing pyinputplus each time we want to call a \n",
    "PyInputPlus function. Instead we can use the shorter pyip name. If you take a look at the example, you see that \n",
    "unlike input(), these functions return an int or float value: 42 and 3.14 instead of the strings '42' and '3.14'.\n",
    "\n",
    "\n",
    "3. How do you distinguish between inputInt() and inputFloat()?\n",
    "Answer:\n",
    "Prompts the user to enter an integer value. Returns the integer as an int value.\n",
    "Prompts the user to enter a floating point number value. Returns the number as a float.\n",
    "\n",
    "\n",
    "4. Using PyInputPlus, how do you ensure that the user enters a whole number between 0 and 99?\n",
    "Answer:Using min and max parameters,\n",
    "min (None, float): If not None, the minimum accepted numeric value, including the minimum argument.\n",
    "max (None, float): If not None, the maximum accepted numeric value, including the maximum argument.\n",
    "\n",
    "\n",
    "5. What is transferred to the keyword arguments allowRegexes and blockRegexes?\n",
    "Answer:\n",
    "allowRegexes (Sequence, None): A sequence of regex str that will explicitly pass validation.\n",
    "blockRegexes (Sequence, None): A sequence of regex str or (regex_str, error_msg_str) tuples that, \n",
    "if matched, will explicitly fail validation.\n",
    "\n",
    "\n",
    "6. If a blank input is entered three times, what does inputStr(limit=3) do?\n",
    "Answer: The number of tries the user has to enter valid input before the default value is returned.\n",
    "\n",
    "7. If blank input is entered three times, what does inputStr(limit=3, default='hello') do?\n",
    "Answer: The number of tries the user has to enter valid input before the default value \"hello\" is returned.\n",
    "\n",
    "\"\"\""
   ]
  }
 ],
 "metadata": {
  "kernelspec": {
   "display_name": "Python 3",
   "language": "python",
   "name": "python3"
  },
  "language_info": {
   "codemirror_mode": {
    "name": "ipython",
    "version": 3
   },
   "file_extension": ".py",
   "mimetype": "text/x-python",
   "name": "python",
   "nbconvert_exporter": "python",
   "pygments_lexer": "ipython3",
   "version": "3.8.8"
  }
 },
 "nbformat": 4,
 "nbformat_minor": 5
}
