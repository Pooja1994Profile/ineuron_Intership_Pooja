{
 "cells": [
  {
   "cell_type": "code",
   "execution_count": null,
   "id": "64798aa8",
   "metadata": {},
   "outputs": [],
   "source": [
    "'''\n",
    "Q1. What is the difference between __getattr__ and __getattribute__?\n",
    "Answer:\n",
    "The __getattr__ method is run for fetches of undefined attributes only (i.e., those\n",
    "not present on an instance and not inherited from any of its classes). By contrast,\n",
    "the __getattribute__ method is called for every attribute fetch, whether the attribute is defined or not. \n",
    "Because of this, code inside a __getattr__ can freely fetch\n",
    "other attributes if they are defined, whereas __getattribute__ must use special code\n",
    "for all such attribute fetches to avoid looping or extra calls\n",
    "    \n",
    "\n",
    "Q2. What is the difference between properties and descriptors?\n",
    "Answer:\n",
    "Properties serve a specific role, while descriptors are more general. Properties define\n",
    "get, set, and delete functions for a specific attribute; descriptors provide a class\n",
    "with methods for these actions, too, but they provide extra flexibility to support\n",
    "more arbitrary actions. In fact, properties are really a simple way to create a specific\n",
    "kind of descriptor—one that runs functions on attribute accesses. Coding differs\n",
    "too: a property is created with a built-in function, and a descriptor is coded with\n",
    "a class; thus, descriptors can leverage all the usual OOP features of classes, such\n",
    "as inheritance. Moreover, in addition to the instance’s state information, descriptors have local state of their own, so they can sometimes avoid name collisions in\n",
    "the instance.\n",
    "\n",
    "\n",
    "Q3. What are the key differences in functionality between __getattr__ and __getattribute__, as well as \n",
    "properties and descriptors?\n",
    "Answer:\n",
    "The __getattr__ and __getattribute__ methods are more generic: they can be used\n",
    "to catch arbitrarily many attributes. In contrast, each property or descriptor provides access interception for only one specific attribute—we can’t catch every attribute fetch with a single property or descriptor. On the other hand, properties\n",
    "and descriptors handle both attribute fetch and assignment by design: __get\n",
    "attr__ and __getattribute__ handle fetches only; to intercept assignments as well,\n",
    "__setattr__ must also be coded. The implementation is also different: __get\n",
    "attr__ and __getattribute__ are operator overloading methods, whereas properties and \n",
    "descriptors are objects manually assigned to class attributes. Unlike the\n",
    "others, properties and descriptors can also sometimes avoid extra calls on assignment\n",
    "to unmanaged names, and show up in dir results automatically, but are also\n",
    "narrower in scope—they can’t address generic dispatch goals. In Python evolution,\n",
    "new features tend to offer alternatives, but do not fully subsume what came before.\n",
    "'''"
   ]
  }
 ],
 "metadata": {
  "kernelspec": {
   "display_name": "Python 3",
   "language": "python",
   "name": "python3"
  },
  "language_info": {
   "codemirror_mode": {
    "name": "ipython",
    "version": 3
   },
   "file_extension": ".py",
   "mimetype": "text/x-python",
   "name": "python",
   "nbconvert_exporter": "python",
   "pygments_lexer": "ipython3",
   "version": "3.8.8"
  }
 },
 "nbformat": 4,
 "nbformat_minor": 5
}
