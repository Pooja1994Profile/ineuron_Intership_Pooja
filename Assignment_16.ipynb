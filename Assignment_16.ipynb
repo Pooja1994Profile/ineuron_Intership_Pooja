{
 "cells": [
  {
   "cell_type": "code",
   "execution_count": 8,
   "id": "51d2e3d3",
   "metadata": {},
   "outputs": [
    {
     "name": "stdout",
     "output_type": "stream",
     "text": [
      "Enter your birth year1980\n",
      "The List year is: \n"
     ]
    },
    {
     "data": {
      "text/plain": [
       "[1980, 1981, 1982, 1983, 1984, 1985]"
      ]
     },
     "execution_count": 8,
     "metadata": {},
     "output_type": "execute_result"
    }
   ],
   "source": [
    "\"\"\"\n",
    "1. Create a list called years_list, starting with the year of your birth, and each year thereafter until the year\n",
    "of your fifth birthday. For example, if you were born in 1980. the list would be years_list = [1980, 1981, 1982, \n",
    "1983, 1984, 1985].\n",
    "\"\"\"\n",
    "#Answer:\n",
    "n=input(\"Enter your birth year\")\n",
    "if len(n)!=4:\n",
    "    print(\"You enter wrong value\")\n",
    "\n",
    "print(\"The List year is: \")\n",
    "[int(n)+i for i in range(6)]"
   ]
  },
  {
   "cell_type": "code",
   "execution_count": 9,
   "id": "b795ada5",
   "metadata": {},
   "outputs": [
    {
     "name": "stdout",
     "output_type": "stream",
     "text": [
      "The third birthday is:  1983\n"
     ]
    }
   ],
   "source": [
    "\"\"\"\n",
    "2. In which year in years_list was your third birthday? Remember, you were 0 years of age for your first year.\n",
    "\"\"\"\n",
    "#Answer:\n",
    "print(\"The third birthday is: \",int(n)+3)"
   ]
  },
  {
   "cell_type": "code",
   "execution_count": 10,
   "id": "b7e4cbac",
   "metadata": {},
   "outputs": [
    {
     "name": "stdout",
     "output_type": "stream",
     "text": [
      "The oldest birthday is:  1985\n"
     ]
    }
   ],
   "source": [
    "\"\"\"\n",
    "3.In the years list, which year were you the oldest?\n",
    "\"\"\"\n",
    "#Answer:\n",
    "print(\"The oldest birthday is: \",int(n)+5)"
   ]
  },
  {
   "cell_type": "code",
   "execution_count": 12,
   "id": "e7d42338",
   "metadata": {},
   "outputs": [],
   "source": [
    "\"\"\"\n",
    "4. Make a list called things with these three strings as elements: \"mozzarella\", \"cinderella\", \"salmonella\".\n",
    "\"\"\"\n",
    "#Answer:\n",
    "things=[\"mozzarella\", \"cinderella\", \"salmonella\"]"
   ]
  },
  {
   "cell_type": "code",
   "execution_count": 16,
   "id": "508f2efd",
   "metadata": {},
   "outputs": [
    {
     "data": {
      "text/plain": [
       "['mozzarella', 'Cinderella', 'salmonella']"
      ]
     },
     "execution_count": 16,
     "metadata": {},
     "output_type": "execute_result"
    }
   ],
   "source": [
    "\"\"\"\n",
    "5. Capitalize the element in things that refers to a person and then print the list. Did it change the element in \n",
    "the list?\n",
    "\"\"\"\n",
    "#Answer:\n",
    "things[1] = things[1].title()\n",
    "things"
   ]
  },
  {
   "cell_type": "code",
   "execution_count": 24,
   "id": "1082428c",
   "metadata": {},
   "outputs": [
    {
     "data": {
      "text/plain": [
       "['Groucho', 'Chico', 'Harpo']"
      ]
     },
     "execution_count": 24,
     "metadata": {},
     "output_type": "execute_result"
    }
   ],
   "source": [
    "\"\"\"\n",
    "6. Make a surprise list with the elements \"Groucho,\" \"Chico,\" and \"Harpo.\"\n",
    "\"\"\"\n",
    "#Answer:\n",
    "surprise =[\"Groucho\",\"Chico\" , \"Harpo\"]\n",
    "surprise"
   ]
  },
  {
   "cell_type": "code",
   "execution_count": 28,
   "id": "3fc465cb",
   "metadata": {},
   "outputs": [
    {
     "data": {
      "text/plain": [
       "['Groucho', 'Chico', 'Oprah']"
      ]
     },
     "execution_count": 28,
     "metadata": {},
     "output_type": "execute_result"
    }
   ],
   "source": [
    "\"\"\"\n",
    "7. Lowercase the last element of the surprise list, reverse it, and then capitalize it.\n",
    "\"\"\"\n",
    "#Answer:\n",
    "surprise[-1] = surprise[-1].lower()[::-1].title()\n",
    "surprise"
   ]
  },
  {
   "cell_type": "code",
   "execution_count": 31,
   "id": "57c24cfc",
   "metadata": {},
   "outputs": [
    {
     "data": {
      "text/plain": [
       "{'dog': 'chien', 'cat': 'chat'}"
      ]
     },
     "execution_count": 31,
     "metadata": {},
     "output_type": "execute_result"
    }
   ],
   "source": [
    "\"\"\"\n",
    "8. Make an English-to-French dictionary called e2f and print it. Here are your starter words: dog is chien, \n",
    "cat is chat, and walrus is morse.\n",
    "\"\"\"\n",
    "#Answer:\n",
    "e2f={\n",
    "    \"dog\":\"chien\",\n",
    "    \"cat\":\"chat\", \n",
    "}\n",
    "e2f"
   ]
  },
  {
   "cell_type": "code",
   "execution_count": 32,
   "id": "92c9c55a",
   "metadata": {},
   "outputs": [
    {
     "data": {
      "text/plain": [
       "{'dog': 'chien', 'cat': 'chat', 'walrus': 'morse'}"
      ]
     },
     "execution_count": 32,
     "metadata": {},
     "output_type": "execute_result"
    }
   ],
   "source": [
    "\"\"\"\n",
    "9. Write the French word for walrus in your three-word dictionary e2f.\n",
    "\"\"\"\n",
    "#Answer:\n",
    "e2f['walrus'] = 'morse'\n",
    "e2f"
   ]
  },
  {
   "cell_type": "code",
   "execution_count": 34,
   "id": "ccac9bbc",
   "metadata": {},
   "outputs": [
    {
     "data": {
      "text/plain": [
       "{'chien': 'dog', 'chat': 'cat', 'morse': 'walrus'}"
      ]
     },
     "execution_count": 34,
     "metadata": {},
     "output_type": "execute_result"
    }
   ],
   "source": [
    "\"\"\"\n",
    "10. Make a French-to-English dictionary called f2e from e2f. Use the items method.\n",
    "\"\"\"\n",
    "#Answer:\n",
    "f2e={\n",
    "    \"chien\":\"dog\",\n",
    "    \"chat\":\"cat\", \n",
    "    \"morse\":\"walrus\"\n",
    "}\n",
    "f2e"
   ]
  },
  {
   "cell_type": "code",
   "execution_count": 35,
   "id": "976daac1",
   "metadata": {},
   "outputs": [
    {
     "data": {
      "text/plain": [
       "'dog'"
      ]
     },
     "execution_count": 35,
     "metadata": {},
     "output_type": "execute_result"
    }
   ],
   "source": [
    "\"\"\"\n",
    "11. Print the English version of the French word chien using f2e.\n",
    "\"\"\"\n",
    "#Answer:\n",
    "f2e['chien']"
   ]
  },
  {
   "cell_type": "code",
   "execution_count": 43,
   "id": "abef9ae8",
   "metadata": {},
   "outputs": [
    {
     "data": {
      "text/plain": [
       "dict_keys(['dog', 'cat', 'walrus'])"
      ]
     },
     "execution_count": 43,
     "metadata": {},
     "output_type": "execute_result"
    }
   ],
   "source": [
    "\"\"\"\n",
    "12. Make and print a set of English words from the keys in e2f.\n",
    "\"\"\"\n",
    "#Answer:\n",
    "e2f.keys()"
   ]
  },
  {
   "cell_type": "code",
   "execution_count": 39,
   "id": "8c778c89",
   "metadata": {},
   "outputs": [
    {
     "data": {
      "text/plain": [
       "{'animals': {'cats': ['Henri', 'Grumpy', 'Lucy'], 'octopi': {}, 'emus': {}},\n",
       " 'plants': {},\n",
       " 'other': {}}"
      ]
     },
     "execution_count": 39,
     "metadata": {},
     "output_type": "execute_result"
    }
   ],
   "source": [
    "\"\"\"\n",
    "13. Make a multilevel dictionary called life. Use these strings for the topmost keys: 'animals', 'plants', and \n",
    "'other'. Make the 'animals' key refer to another dictionary with the keys 'cats', 'octopi', and 'emus'. Make the \n",
    "'cats' key refer to a list of strings with the values 'Henri', 'Grumpy', and 'Lucy'. Make all the other keys refer\n",
    "to empty dictionaries.\n",
    "\"\"\"\n",
    "#Answer:\n",
    "life = { 'animals' : { 'cats' : [ 'Henri', 'Grumpy', 'Lucy' ], 'octopi' : {}, 'emus' : {}  }, 'plants' : {}, 'other' : {} }\n",
    "life"
   ]
  },
  {
   "cell_type": "code",
   "execution_count": 40,
   "id": "528be0cc",
   "metadata": {},
   "outputs": [
    {
     "name": "stdout",
     "output_type": "stream",
     "text": [
      "dict_keys(['animals', 'plants', 'other'])\n"
     ]
    }
   ],
   "source": [
    "\"\"\"\n",
    "14. Print the top-level keys of life.\n",
    "\"\"\"\n",
    "#Answer:\n",
    "print(life.keys())"
   ]
  },
  {
   "cell_type": "code",
   "execution_count": 41,
   "id": "14649ca3",
   "metadata": {},
   "outputs": [
    {
     "data": {
      "text/plain": [
       "{'cats': ['Henri', 'Grumpy', 'Lucy'], 'octopi': {}, 'emus': {}}"
      ]
     },
     "execution_count": 41,
     "metadata": {},
     "output_type": "execute_result"
    }
   ],
   "source": [
    "\"\"\"\n",
    "15. Print the keys for life['animals'].\n",
    "\"\"\"\n",
    "#Answer:\n",
    "life['animals']\n"
   ]
  },
  {
   "cell_type": "code",
   "execution_count": 42,
   "id": "6224a8a1",
   "metadata": {},
   "outputs": [
    {
     "data": {
      "text/plain": [
       "['Henri', 'Grumpy', 'Lucy']"
      ]
     },
     "execution_count": 42,
     "metadata": {},
     "output_type": "execute_result"
    }
   ],
   "source": [
    "\"\"\"\n",
    "16. Print the values for life['animals']['cats']\n",
    "\"\"\"\n",
    "#Answer:\n",
    "life['animals']['cats']"
   ]
  },
  {
   "cell_type": "code",
   "execution_count": null,
   "id": "639b1c30",
   "metadata": {},
   "outputs": [],
   "source": []
  },
  {
   "cell_type": "code",
   "execution_count": null,
   "id": "8f3c4f6a",
   "metadata": {},
   "outputs": [],
   "source": []
  }
 ],
 "metadata": {
  "kernelspec": {
   "display_name": "Python 3",
   "language": "python",
   "name": "python3"
  },
  "language_info": {
   "codemirror_mode": {
    "name": "ipython",
    "version": 3
   },
   "file_extension": ".py",
   "mimetype": "text/x-python",
   "name": "python",
   "nbconvert_exporter": "python",
   "pygments_lexer": "ipython3",
   "version": "3.8.8"
  }
 },
 "nbformat": 4,
 "nbformat_minor": 5
}
