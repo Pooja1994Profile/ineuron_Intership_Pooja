{
 "cells": [
  {
   "cell_type": "code",
   "execution_count": null,
   "id": "6ffc666a",
   "metadata": {},
   "outputs": [],
   "source": [
    "\"\"\"\n",
    "Q1. What is the purpose of the try statement?\n",
    "Answer:\n",
    "The try statement catches and recovers from exceptions—it specifies a block of\n",
    "code to run, and one or more handlers for exceptions that may be raised during\n",
    "the block’s execution.\n",
    "\n",
    "\n",
    "Q2. What are the two most popular try statement variations?\n",
    "Answer:\n",
    "The two common variations on the try statement are try/except/else (for catching\n",
    "exceptions) and try/finally (for specifying cleanup actions that must occur\n",
    "whether an exception is raised or not). Through Python 2.4, these were separate\n",
    "statements that could be combined by syntactic nesting; in 2.5 and later, except\n",
    "and finally blocks may be mixed in the same statement, so the two statement\n",
    "forms are merged. In the merged form, the finally is still run on the way out of\n",
    "the try, regardless of what exceptions may have been raised or handled. In fact,\n",
    "the merged form is equivalent to nesting a try/except/else in a try/finally, and\n",
    "the two still have logically distinct roles.\n",
    "\n",
    "\n",
    "Q3. What is the purpose of the raise statement?\n",
    "Answer:\n",
    "The raise statement raises (triggers) an exception. Python raises built-in exceptions \n",
    "on errors internally, but your scripts can trigger built-in or user-defined exceptions \n",
    "with raise, too.\n",
    "\n",
    "\n",
    "Q4. What does the assert statement do, and what other statement is it like?\n",
    "Answer:\n",
    "The assert statement raises an AssertionError exception if a condition is false. It\n",
    "works like a conditional raise statement wrapped up in an if statement, and can\n",
    "be disabled with a –O switch.\n",
    "\n",
    "\n",
    "Q5. What is the purpose of the with/as argument, and what other statement is it like?\n",
    "Answer:\n",
    "The with/as statement is designed to automate startup and termination activities\n",
    "that must occur around a block of code. It is roughly like a try/finally statement\n",
    "in that its exit actions run whether an exception occurred or not, but it allows a\n",
    "richer object-based protocol for specifying entry and exit actions, and may reduce\n",
    "code size. Still, it’s not quite as general, as it applies only to objects that support\n",
    "its protocol; try handles many more use cases.\n",
    "\"\"\""
   ]
  }
 ],
 "metadata": {
  "kernelspec": {
   "display_name": "Python 3",
   "language": "python",
   "name": "python3"
  },
  "language_info": {
   "codemirror_mode": {
    "name": "ipython",
    "version": 3
   },
   "file_extension": ".py",
   "mimetype": "text/x-python",
   "name": "python",
   "nbconvert_exporter": "python",
   "pygments_lexer": "ipython3",
   "version": "3.8.8"
  }
 },
 "nbformat": 4,
 "nbformat_minor": 5
}
