{
 "cells": [
  {
   "cell_type": "code",
   "execution_count": null,
   "id": "1f9f16f2",
   "metadata": {},
   "outputs": [],
   "source": [
    "\"\"\"\n",
    "1. How do you distinguish between shutil.copy() and shutil.copytree()?\n",
    "Answer:\n",
    "shutil.copy() method in Python is used to copy the content of source file to destination file or directory. \n",
    "It also preserves the file’s permission mode but other metadata of the file like the file’s creation and \n",
    "modification times is not preserved.\n",
    "\n",
    "shutil.copytree() method recursively copies an entire directory tree rooted at source (src) to \n",
    "the destination directory. The destination directory, named by (dst) must not already exist. \n",
    "It will be created during copying. Permissions and times of directories are copied with copystat() and \n",
    "individual files are copied using shutil.copy2().\n",
    "\n",
    "2. What function is used to rename files??\n",
    "Answer: os.rename() method renames a files\n",
    "\n",
    "3. What is the difference between the delete functions in the send2trash and shutil modules?\n",
    "Answer:\n",
    "Using send2trash is much safer than Python’s regular delete functions, because it will send folders and \n",
    "files to your computer’s trash or recycle bin instead of permanently deleting them. If a bug in your program \n",
    "deletes something with send2trash you didn’t intend to delete.\n",
    "Shutil delete a single file or a single empty folder with functions in the os module, whereas to delete a folder and\n",
    "all of its contents which is irreversibly delete.\n",
    "    \n",
    "4.ZipFile objects have a close() method just like File objects’ close() method. \n",
    "What ZipFile method is equivalent to File objects’ open() method?\n",
    "Answer: zipfile.ZipFile() function\n",
    "\n",
    "\"\"\""
   ]
  },
  {
   "cell_type": "code",
   "execution_count": 1,
   "id": "23be05a3",
   "metadata": {},
   "outputs": [
    {
     "name": "stdout",
     "output_type": "stream",
     "text": [
      "Looking in /home/upooja/Documents/ineuron_Intership/Python/randomFolder for files with extensions of .pdf, .jpg\n"
     ]
    }
   ],
   "source": [
    "\"\"\"\n",
    "5. Create a programme that searches a folder tree for files with a certain file extension (such as .pdf or .jpg). \n",
    "Copy these files from whatever location they are in to a new folder.\n",
    "\"\"\"\n",
    "import os, shutil\n",
    "\n",
    "def selectiveCopy(folder, extensions, destFolder):\n",
    "    folder = os.path.abspath(folder)\n",
    "    destFolder = os.path.abspath(destFolder)\n",
    "    print('Looking in', folder, 'for files with extensions of', ', '.join(extensions))\n",
    "    for foldername, subfolders, filenames in os.walk(folder):\n",
    "        for filename in filenames:\n",
    "            name, extension = os.path.splitext(filename)\n",
    "            if extension in extensions:\n",
    "                fileAbsPath = foldername + os.path.sep + filename\n",
    "                print('Coping', fileAbsPath, 'to', destFolder)\n",
    "                shutil.copy(fileAbsPath, destFolder)\n",
    "\n",
    "extensions = ['.pdf', '.jpg']\n",
    "folder = 'randomFolder'\n",
    "destFolder = 'selectiveFolder'\n",
    "selectiveCopy(folder, extensions, destFolder)"
   ]
  },
  {
   "cell_type": "code",
   "execution_count": null,
   "id": "128de1c3",
   "metadata": {},
   "outputs": [],
   "source": []
  }
 ],
 "metadata": {
  "kernelspec": {
   "display_name": "Python 3",
   "language": "python",
   "name": "python3"
  },
  "language_info": {
   "codemirror_mode": {
    "name": "ipython",
    "version": 3
   },
   "file_extension": ".py",
   "mimetype": "text/x-python",
   "name": "python",
   "nbconvert_exporter": "python",
   "pygments_lexer": "ipython3",
   "version": "3.8.8"
  }
 },
 "nbformat": 4,
 "nbformat_minor": 5
}
