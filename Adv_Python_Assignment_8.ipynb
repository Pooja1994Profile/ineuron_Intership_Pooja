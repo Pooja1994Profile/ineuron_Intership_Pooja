{
 "cells": [
  {
   "cell_type": "code",
   "execution_count": null,
   "id": "fb1040db",
   "metadata": {},
   "outputs": [],
   "source": [
    "\"\"\"\n",
    "Q1. What are the two latest user-defined exception constraints in Python 3.X?\n",
    "Answer:\n",
    "In 3.X, exceptions must be defined by classes (that is, a class instance object is\n",
    "raised and caught). In addition, exception classes must be derived from the builtin class BaseException; \n",
    "most programs inherit from its Exception subclass, to support catchall handlers for normal kinds of exceptions.\n",
    "\n",
    "\n",
    "Q2. How are class-based exceptions that have been raised matched to handlers?\n",
    "Answer:\n",
    "Class-based exceptions match by superclass relationships: naming a superclass in\n",
    "an exception handler will catch instances of that class, as well as instances of any\n",
    "of its subclasses lower in the class tree. Because of this, you can think of superclasses\n",
    "as general exception categories and subclasses as more specific types of exceptions\n",
    "within those categories.\n",
    "\n",
    "\n",
    "Q3. Describe two methods for attaching context information to exception artefacts.\n",
    "Answer:\n",
    "You can attach context information to class-based exceptions by filling out instance\n",
    "attributes in the instance object raised, usually in a custom class constructor. For\n",
    "simpler needs, built-in exception superclasses provide a constructor that stores its\n",
    "arguments on the instance automatically (as a tuple in the attribute args). In exception handlers, \n",
    "you list a variable to be assigned to the raised instance, then go\n",
    "through this name to access attached state information and call any methods defined in the class\n",
    "\n",
    "\n",
    "Q4. Describe two methods for specifying the text of an exception object's error message.\n",
    "Answer:\n",
    "The error message text in class-based exceptions can be specified with a custom\n",
    "__str__ operator overloading method. For simpler needs, built-in exception superclasses automatically display \n",
    "anything you pass to the class constructor. Operations like print and str automatically fetch the display string \n",
    "of an exception object when it is printed either explicitly or as part of an error message.\n",
    "\n",
    "Q5. Why do you no longer use string-based exceptions?\n",
    "Answer:\n",
    "Because Guido said so—they have been removed as of both Python 2.6 and 3.0.\n",
    "There are arguably good reasons for this: string-based exceptions did not support\n",
    "categories, state information, or behavior inheritance in the way class-based exceptions do. In practice, \n",
    "this made string-based exceptions easier to use at first\n",
    "when programs were small, but more complex to use as programs grew larger.\n",
    "The downsides of requiring exceptions to be classes are to break existing code, and\n",
    "create a forward knowledge dependency—beginners must first learn classes and\n",
    "OOP before they can code new exceptions, or even truly understand exceptions at\n",
    "all.\n",
    "\"\"\""
   ]
  }
 ],
 "metadata": {
  "kernelspec": {
   "display_name": "Python 3",
   "language": "python",
   "name": "python3"
  },
  "language_info": {
   "codemirror_mode": {
    "name": "ipython",
    "version": 3
   },
   "file_extension": ".py",
   "mimetype": "text/x-python",
   "name": "python",
   "nbconvert_exporter": "python",
   "pygments_lexer": "ipython3",
   "version": "3.8.8"
  }
 },
 "nbformat": 4,
 "nbformat_minor": 5
}
