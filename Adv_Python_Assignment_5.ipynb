{
 "cells": [
  {
   "cell_type": "code",
   "execution_count": null,
   "id": "04f5f728",
   "metadata": {},
   "outputs": [],
   "source": [
    "\"\"\"\n",
    "Q1. What is the meaning of multiple inheritance?\n",
    "Answer: \n",
    "Multiple inheritance occurs when a class inherits from more than one superclass; it’s useful for mixing \n",
    "together multiple packages of class-based code.\n",
    "\n",
    "\n",
    "Q2. What is the concept of delegation?\n",
    "Answer: \n",
    "Delegation involves wrapping an object in a proxy class, which adds extra\n",
    "behavior, and passes other operations to the wrapped object. The proxy retains\n",
    "the interface of the wrapped object.\n",
    "\n",
    "\n",
    "Q3. What is the concept of composition?\n",
    "Answer: \n",
    "Composition is a technique whereby a controller class embeds and directs a\n",
    "number of objects, and provides an interface all its own; it’s a way to build up\n",
    "larger structures with classes.\n",
    "\n",
    "\n",
    "Q4. What are bound methods and how do we use them?\n",
    "Answer: \n",
    "Bound methods combine an instance and a method function; you can call them\n",
    "without passing in an instance object explicitly because the original instance is\n",
    "still available.\n",
    "\n",
    "Q5. What is the purpose of pseudoprivate attributes?\n",
    "Answer: \n",
    "This feature is mostly intended to avoid namespace collisions in instances, not to restrict access to names in general; mangled names are\n",
    "therefore better called “pseudoprivate” than “private.” \n",
    "Pseudoprivate names are an advanced and entirely optional feature, and you probably\n",
    "won’t find them very useful until you start writing large class hierarchies in multiprogrammer projects..\n",
    "\"\"\""
   ]
  }
 ],
 "metadata": {
  "kernelspec": {
   "display_name": "Python 3",
   "language": "python",
   "name": "python3"
  },
  "language_info": {
   "codemirror_mode": {
    "name": "ipython",
    "version": 3
   },
   "file_extension": ".py",
   "mimetype": "text/x-python",
   "name": "python",
   "nbconvert_exporter": "python",
   "pygments_lexer": "ipython3",
   "version": "3.8.8"
  }
 },
 "nbformat": 4,
 "nbformat_minor": 5
}
