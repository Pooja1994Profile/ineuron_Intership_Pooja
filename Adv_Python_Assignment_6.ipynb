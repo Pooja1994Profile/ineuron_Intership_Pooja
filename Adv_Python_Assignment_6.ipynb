{
 "cells": [
  {
   "cell_type": "code",
   "execution_count": null,
   "id": "1ab7bb04",
   "metadata": {},
   "outputs": [],
   "source": [
    "\"\"\"\n",
    "Q1. Describe three applications for exception processing.\n",
    "Answer:\n",
    "Exception processing is useful for error handling, termination actions, and event\n",
    "notification. It can also simplify the handling of special cases and can be used to\n",
    "implement alternative control flows as a sort of structured “go to” operation. In\n",
    "general, exception processing also cuts down on the amount of error-checking code\n",
    "your program may require—because all errors filter up to handlers, you may not\n",
    "need to test the outcome of every operation.\n",
    "\n",
    "\n",
    "Q2. What happens if you don't do something extra to treat an exception?\n",
    "Answer:\n",
    "Any uncaught exception eventually filters up to the default exception handler\n",
    "Python provides at the top of your program. This handler prints the familiar error\n",
    "message and shuts down your program.\n",
    "\n",
    "\n",
    "Q3. What are your options for recovering from an exception in your script?\n",
    "Answer:\n",
    "If you don’t want the default message and shutdown, you can code try/except\n",
    "statements to catch and recover from exceptions that are raised within its nested\n",
    "code block. Once an exception is caught, the exception is terminated and your\n",
    "program continues after the try.\n",
    "\n",
    "\n",
    "Q4. Describe two methods for triggering exceptions in your script.\n",
    "Answer:\n",
    "The raise and assert statements can be used to trigger an exception, exactly as if\n",
    "it had been raised by Python itself. In principle, you can also raise an exception by\n",
    "making a programming mistake, but that’s not usually an explicit goal!\n",
    "\n",
    "\n",
    "Q5. Identify two methods for specifying actions to be executed at termination time, regardless of whether \n",
    "or not an exception exists.\n",
    "Answer:\n",
    "The try/finally statement can be used to ensure actions are run after a block of\n",
    "code exits, regardless of whether the block raises an exception or not. The with/\n",
    "as statement can also be used to ensure termination actions are run, but only when\n",
    "processing object types that support it.\n",
    "\"\"\""
   ]
  }
 ],
 "metadata": {
  "kernelspec": {
   "display_name": "Python 3",
   "language": "python",
   "name": "python3"
  },
  "language_info": {
   "codemirror_mode": {
    "name": "ipython",
    "version": 3
   },
   "file_extension": ".py",
   "mimetype": "text/x-python",
   "name": "python",
   "nbconvert_exporter": "python",
   "pygments_lexer": "ipython3",
   "version": "3.8.8"
  }
 },
 "nbformat": 4,
 "nbformat_minor": 5
}
