{
 "cells": [
  {
   "cell_type": "code",
   "execution_count": null,
   "id": "e07ff395",
   "metadata": {},
   "outputs": [],
   "source": [
    "\"\"\"\n",
    "1. What does an empty dictionary's code look like?\n",
    "Answer: {}\n",
    "\n",
    "2. What is the value of a dictionary value with the key 'foo' and the value 42?\n",
    "Answer:  \n",
    "{'foo' : 42}\n",
    "\n",
    "\n",
    "3. What is the most significant distinction between a dictionary and a list?\n",
    "Answer: The items stored in a dictionary are unordered, while the items in a list are ordered.\n",
    "\n",
    "\n",
    "4. What happens if you try to access spam['foo'] if spam is {'bar': 100}?\n",
    "Answer: You get a KeyError error\n",
    "\n",
    "\n",
    "5. If a dictionary is stored in spam, what is the difference between the expressions 'cat' in spam and\n",
    "'cat' in spam.keys()?\n",
    "Answer:\n",
    "The 'cat' in spam checks whether there is a 'cat' key in the dictionary, \n",
    "while 'cat' in spam.values() checks whether there is a value 'cat' for one of the keys in spam.\n",
    "\n",
    "\n",
    "6. If a dictionary is stored in spam, what is the difference between the expressions 'cat' in spam and\n",
    "'cat' in spam.values()?\n",
    "Answer:\n",
    "There is no difference. The in operator checks whether a value exists as a key in the operator.\n",
    "\"\"\"\n"
   ]
  },
  {
   "cell_type": "code",
   "execution_count": null,
   "id": "a64f860b",
   "metadata": {},
   "outputs": [],
   "source": [
    "\"\"\"\n",
    "7. What is a shortcut for the following code?\n",
    "if 'color' not in spam:\n",
    "spam['color'] = 'black'\n",
    "\n",
    "Answer:\n",
    "spam.setdefault('color' : 'black')\n",
    "\"\"\"\n"
   ]
  },
  {
   "cell_type": "code",
   "execution_count": null,
   "id": "2cee8fb7",
   "metadata": {},
   "outputs": [],
   "source": [
    "\"\"\"8. How do you \"pretty print\" dictionary values using which module and function?\n",
    "Answer:\n",
    "import pprint\n",
    "pprint.prrint()\n",
    "\"\"\""
   ]
  }
 ],
 "metadata": {
  "kernelspec": {
   "display_name": "Python 3",
   "language": "python",
   "name": "python3"
  },
  "language_info": {
   "codemirror_mode": {
    "name": "ipython",
    "version": 3
   },
   "file_extension": ".py",
   "mimetype": "text/x-python",
   "name": "python",
   "nbconvert_exporter": "python",
   "pygments_lexer": "ipython3",
   "version": "3.8.8"
  }
 },
 "nbformat": 4,
 "nbformat_minor": 5
}
