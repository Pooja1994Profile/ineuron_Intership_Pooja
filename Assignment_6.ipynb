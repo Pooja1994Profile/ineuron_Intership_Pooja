{
 "cells": [
  {
   "cell_type": "code",
   "execution_count": null,
   "id": "0a1b3ee4",
   "metadata": {},
   "outputs": [],
   "source": [
    "\"\"\"\n",
    "1. What are escape characters, and how do you use them?\n",
    "Answer: An escape character is a backslash \\ followed by the character you want to insert. \n",
    "An example of an illegal character is a double quote inside a string that is surrounded by double quotes:\n",
    "Eg;\n",
    "txt = \"We are the so-called \\\"Vikings\\\" from the north.\"\n",
    "\n",
    "\n",
    "2. What do the escape characters n and t stand for?\n",
    "Answer: \\n is a newline; \\t is a tab\n",
    "\n",
    "\n",
    "3. What is the way to include backslash characters in a string?\n",
    "Answer: The \\\\ escape character will represent a backslash character.\n",
    "\n",
    "\n",
    "4. The string \"Howl's Moving Castle\" is a correct value. Why isn't the single quote character in the word \n",
    "Howl's not escaped a problem?\n",
    "Answer: The single quote in Howl's is fine because you've used double quotes to mark the beginning and \n",
    "end of the string.\n",
    "\n",
    "\n",
    "5. How do you write a string of newlines if you don't want to use the n character?\n",
    "Answer: Multiline strings allow you to use newlines in strings without the \\n escape character.\n",
    "\"\"\"\n"
   ]
  },
  {
   "cell_type": "code",
   "execution_count": null,
   "id": "b7a8d59f",
   "metadata": {},
   "outputs": [],
   "source": [
    "\"\"\"\n",
    "6. What are the values of the given expressions?\n",
    "Answer:\n",
    "'Hello, world!'[1]       'e'\n",
    "'Hello, world!'[0:5]     'Hello'\n",
    "'Hello, world!'[:5]      'Hello'\n",
    "'Hello, world!'[3:]      'lo world!\n",
    "\n",
    "7. What are the values of the following expressions?\n",
    "Answer:\n",
    "'Hello'.upper()             'HELLO'\n",
    "'Hello'.upper().isupper()    True\n",
    "'Hello'.upper().lower()      'hello'\n",
    "\n",
    "\n",
    "8. What are the values of the following expressions?\n",
    "Answer:\n",
    "1)  'Remember, remember, the fifth of July.'.split()\n",
    "['Remember,', 'remember,', 'the', 'fifth', 'of', 'November.']\n",
    "\n",
    "2)  '-'.join('There can only one.'.split()\n",
    "'There-can-be-only-one.\n",
    "\n",
    "\n",
    "9. What are the methods for right-justifying, left-justifying, and centering a string?\n",
    "Answer:  rjust(), ljust(), and center() string methods\n",
    "\n",
    "\n",
    "10. What is the best way to remove whitespace characters from the start or end?\n",
    "Answer: lstrip() and rstrip() methods\n",
    "\n",
    "\"\"\""
   ]
  },
  {
   "cell_type": "code",
   "execution_count": null,
   "id": "05d9588c",
   "metadata": {},
   "outputs": [],
   "source": []
  }
 ],
 "metadata": {
  "kernelspec": {
   "display_name": "Python 3",
   "language": "python",
   "name": "python3"
  },
  "language_info": {
   "codemirror_mode": {
    "name": "ipython",
    "version": 3
   },
   "file_extension": ".py",
   "mimetype": "text/x-python",
   "name": "python",
   "nbconvert_exporter": "python",
   "pygments_lexer": "ipython3",
   "version": "3.8.8"
  }
 },
 "nbformat": 4,
 "nbformat_minor": 5
}
