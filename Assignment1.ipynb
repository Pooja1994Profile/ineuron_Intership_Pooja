{
 "cells": [
  {
   "cell_type": "code",
   "execution_count": 1,
   "metadata": {},
   "outputs": [
    {
     "data": {
      "text/plain": [
       "\"1. In the below elements which of them are values or an expression? eg:- values can be integer or string and expressions will be mathematical operators.\\n* \\n'hello'\\n-87.8\\n- \\n/ \\n    • \\n6 \""
      ]
     },
     "execution_count": 1,
     "metadata": {},
     "output_type": "execute_result"
    }
   ],
   "source": [
    "\"\"\"1. In the below elements which of them are values or an expression? eg:- values can be integer or string and \n",
    "expressions will be mathematical operators.\n",
    "* \n",
    "'hello'\n",
    "-87.8\n",
    "- \n",
    "/ \n",
    "    • \n",
    "6 \n",
    "\"\"\"\n",
    "\n",
    "\"\"\"\n",
    "Answer:\n",
    "*       expressions\n",
    "'hello' values\n",
    "-87.8   values\n",
    "-       expressions\n",
    "/       expressions\n",
    "    •   expressions\n",
    "6       values\n",
    "\"\"\"\n"
   ]
  },
  {
   "cell_type": "code",
   "execution_count": null,
   "metadata": {},
   "outputs": [],
   "source": [
    "\"\"\"2. What is the difference between string and variable\n",
    "\n",
    "Answer:\n",
    "A Variable is a store of information, and a String is a type of information you would store in a Variable. \n",
    "A String is usually words, enclosed with \"\"\n",
    "Eg String x =\"Welcome to SoloLearn\"\n",
    "X is the Variable, and we declared it as a String, use the single = to assign the text to it.\n",
    "\"\"\"\n"
   ]
  },
  {
   "cell_type": "code",
   "execution_count": null,
   "metadata": {},
   "outputs": [],
   "source": [
    "\"\"\" 3. Describe three different data types. \n",
    "Answer:\n",
    "1) Integers – This value is represented by int class. \n",
    "It contains positive or negative whole numbers (without fraction or decimal). \n",
    "In Python there is no limit to how long an integer value can be.\n",
    "2) Strings - In Python, Strings are arrays of bytes representing Unicode characters. \n",
    "A string is a collection of one or more characters put in a single quote, double-quote or triple quote.\n",
    "3) Lists are just like the arrays, declared in other languages which is an ordered collection of data. \n",
    "It is very flexible as the items in a list do not need to be of the same type. \n",
    "\"\"\""
   ]
  },
  {
   "cell_type": "code",
   "execution_count": null,
   "metadata": {},
   "outputs": [],
   "source": [
    "\"\"\" 4. What is an expression made up of? What do all expressions do? \n",
    "Answer:\n",
    "Expressions are representations of value. They are different from statement in the fact that statements do \n",
    "something while expressions are representation of value. For example any string is also an expressions since it \n",
    "represents the value of the string as well.\n",
    "Python has some advanced constructs through which you can represent values and hence these constructs are also \n",
    "called expressions.\n",
    "Python expressions only contain identifiers, literals, and operators.\n",
    "Identifiers: Any name that is used to define a class, function, variable module, or object is an identifier. \n",
    "Literals: These are language-independent terms in Python and should exist independently in any programming language\n",
    "Operators: In Python you can implement the following operations using the corresponding tokens.\n",
    "\"\"\""
   ]
  },
  {
   "cell_type": "code",
   "execution_count": null,
   "metadata": {},
   "outputs": [],
   "source": [
    "\"\"\"5. This assignment statements, like spam = 10. What is the difference between an expression and a statement?\n",
    "Answer:\n",
    "A statement does something. Statements represent an action or command e.g print statements, assignment statements. \n",
    "Expression is a combination of variables, operations and values that yields a result value. \n",
    "An expression is something that can be reduced to a value, for example \"1+3\" or \"foo = 1+3\"\n",
    "\"\"\""
   ]
  },
  {
   "cell_type": "code",
   "execution_count": 1,
   "metadata": {},
   "outputs": [
    {
     "data": {
      "text/plain": [
       "23"
      ]
     },
     "execution_count": 1,
     "metadata": {},
     "output_type": "execute_result"
    }
   ],
   "source": [
    "\"\"\"6. After running the following code, what does the variable bacon contain?\"\"\"\n",
    "bacon = 22\n",
    "bacon + 1\n",
    "\n",
    "\"\"\"The bacon variable is set to 20. The bacon + 1 expression does not reassign the value in bacon \n",
    "(that would need an assignment statement: bacon = bacon + 1)\"\"\""
   ]
  },
  {
   "cell_type": "code",
   "execution_count": 2,
   "metadata": {},
   "outputs": [
    {
     "data": {
      "text/plain": [
       "'spamspamspam'"
      ]
     },
     "execution_count": 2,
     "metadata": {},
     "output_type": "execute_result"
    }
   ],
   "source": [
    "'''7. What should the values of the following two terms be?'''\n",
    "'spam' + 'spamspam'\n",
    "'spam' * 3\n",
    "\n",
    "#Answer: 'spamspamspam'"
   ]
  },
  {
   "cell_type": "code",
   "execution_count": null,
   "metadata": {},
   "outputs": [],
   "source": [
    "\"\"\"8. Why is eggs a valid variable name while 100 is invalid?\n",
    "\n",
    "Answer:Variable names cannot begin with a number.\n",
    "\"\"\""
   ]
  },
  {
   "cell_type": "code",
   "execution_count": null,
   "metadata": {},
   "outputs": [],
   "source": [
    "'''9. What three functions can be used to get the integer, floating-point number, or string version of a value?\n",
    "Answer:\n",
    "The int(), float(), and str() functions will evaluate to the integer, floating-point number, \n",
    "and string versions of the value passed to them.\n",
    "'''"
   ]
  },
  {
   "cell_type": "code",
   "execution_count": 3,
   "metadata": {},
   "outputs": [
    {
     "ename": "TypeError",
     "evalue": "can only concatenate str (not \"int\") to str",
     "output_type": "error",
     "traceback": [
      "\u001b[0;31m---------------------------------------------------------------------------\u001b[0m",
      "\u001b[0;31mTypeError\u001b[0m                                 Traceback (most recent call last)",
      "\u001b[0;32m<ipython-input-3-939944caabc5>\u001b[0m in \u001b[0;36m<module>\u001b[0;34m\u001b[0m\n\u001b[1;32m      5\u001b[0m with the + operator. The correct way is I have eaten ' + str(99) + ' burritos.'.\"\"\"\n\u001b[1;32m      6\u001b[0m \u001b[0;34m\u001b[0m\u001b[0m\n\u001b[0;32m----> 7\u001b[0;31m \u001b[0;34m'I have eaten '\u001b[0m \u001b[0;34m+\u001b[0m \u001b[0;36m99\u001b[0m \u001b[0;34m+\u001b[0m \u001b[0;34m' burritos.'\u001b[0m\u001b[0;34m\u001b[0m\u001b[0;34m\u001b[0m\u001b[0m\n\u001b[0m",
      "\u001b[0;31mTypeError\u001b[0m: can only concatenate str (not \"int\") to str"
     ]
    }
   ],
   "source": [
    "\"\"\"10. Why does this expression cause an error? How can you fix it?\n",
    "'I have eaten ' + 99 + ' burritos.'\n",
    "\n",
    "Answer:\n",
    "The expression causes an error because 99 is an integer, and only strings can be concatenated to other strings\n",
    "with the + operator. The correct way is I have eaten ' + str(99) + ' burritos.'.\"\"\"\n",
    "\n",
    "'I have eaten ' + 99 + ' burritos.'"
   ]
  },
  {
   "cell_type": "code",
   "execution_count": null,
   "metadata": {},
   "outputs": [],
   "source": []
  }
 ],
 "metadata": {
  "kernelspec": {
   "display_name": "Python 3",
   "language": "python",
   "name": "python3"
  },
  "language_info": {
   "codemirror_mode": {
    "name": "ipython",
    "version": 3
   },
   "file_extension": ".py",
   "mimetype": "text/x-python",
   "name": "python",
   "nbconvert_exporter": "python",
   "pygments_lexer": "ipython3",
   "version": "3.8.8"
  }
 },
 "nbformat": 4,
 "nbformat_minor": 4
}
