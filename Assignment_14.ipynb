{
 "cells": [
  {
   "cell_type": "code",
   "execution_count": null,
   "id": "76fe7687",
   "metadata": {},
   "outputs": [],
   "source": [
    "\"\"\"\n",
    "1. What does RGBA stand for?\n",
    "Answer:\n",
    "RGBA(Red-Green-Blue-Alpha) The format of the RGBA Value.\n",
    "\n",
    "\n",
    "2. From the Pillow module, how do you get the RGBA value of any images?\n",
    "Answer:\n",
    "from PIL import Image\n",
    "img = Image.open(‘image.png’)\n",
    "rgba = img.convert(“RGBA”)\n",
    "datas = rgba.getdata()\n",
    "\n",
    "\n",
    "3. What is a box tuple, and how does it work?\n",
    "Answer:\n",
    "Many of Pillow’s functions and methods take a box tuple argument. This means Pillow is expecting a tuple of \n",
    "four integer coordinates that represent a rectangular region in an image. The four integers are, in order.\n",
    "Left: The x-coordinate of the leftmost edge of the box.\n",
    "Top: The y-coordinate of the top edge of the box.\n",
    "Right: The x-coordinate of one pixel to the right of the rightmost edge of the box. This integer must be greater \n",
    "than the left integer.\n",
    "Bottom: The y-coordinate of one pixel lower than the bottom edge of the box. This integer must be greater than \n",
    "the top integer.\n",
    "\n",
    "from PIL import Image\n",
    "with Image.open(\"hopper.jpg\") as im:\n",
    "    (left, upper, right, lower) = (20, 20, 100, 100)\n",
    "    im_crop = im.crop((left, upper, right, lower))    \n",
    "\"\"\""
   ]
  },
  {
   "cell_type": "code",
   "execution_count": null,
   "id": "39e731bd",
   "metadata": {},
   "outputs": [],
   "source": [
    "\"\"\"\n",
    "4. Use your image and load in notebook then, How can you find out the width and height of an Image object?\n",
    "Answer:\n",
    "\"\"\"\n",
    "from PIL import Image\n",
    "catIm = Image.open('cat.png')\n",
    "catIm.size"
   ]
  },
  {
   "cell_type": "code",
   "execution_count": null,
   "id": "14e99f81",
   "metadata": {},
   "outputs": [],
   "source": [
    "\"\"\"\n",
    "5. What method would you call to get Image object for a 100×100 image, excluding the lower-left quarter of it?\n",
    "Answer:\n",
    "\"\"\"\n",
    "SQUARE_FIT_SIZE = 100\n",
    "LOGO_FILENAME = 'cat.png'\n",
    "logoIm = Image.open(LOGO_FILENAME)\n",
    "logoWidth, logoHeight = logoIm.size"
   ]
  },
  {
   "cell_type": "code",
   "execution_count": null,
   "id": "0c80f8ba",
   "metadata": {},
   "outputs": [],
   "source": [
    "\"\"\"\n",
    "6. After making changes to an Image object, how could you save it as an image file?\n",
    "Answer:\n",
    "\"\"\"\n",
    "im.save(os.path.join('withLogo', filename))"
   ]
  },
  {
   "cell_type": "code",
   "execution_count": null,
   "id": "0037519e",
   "metadata": {},
   "outputs": [],
   "source": [
    "\"\"\"\n",
    "7. What module contains Pillow’s shape-drawing code?\n",
    "Answer:\n",
    "'ImageDraw' module \n",
    "\n",
    "\n",
    "8. Image objects do not have drawing methods. What kind of object does? How do you get this kind of object?\n",
    "Answer:\n",
    "Storing the ImageDraw object in draw, drawing methods call to draw.\n",
    "You can get several other shape-drawing methods for ImageDraw objects.\n",
    "\n",
    "Kinds of object:-\n",
    "1) Black outline at the edges of the image\n",
    "2) A blue rectangle with its top-left corner at (20, 30) and bottom-right corner at (60, 60)\n",
    "3) A red ellipse defined by a box from (120, 30) to (160, 60)\n",
    "4) A brown polygon with five points\n",
    "5) A pattern of green lines drawn with a for loop\n",
    "\"\"\"\n"
   ]
  }
 ],
 "metadata": {
  "kernelspec": {
   "display_name": "Python 3",
   "language": "python",
   "name": "python3"
  },
  "language_info": {
   "codemirror_mode": {
    "name": "ipython",
    "version": 3
   },
   "file_extension": ".py",
   "mimetype": "text/x-python",
   "name": "python",
   "nbconvert_exporter": "python",
   "pygments_lexer": "ipython3",
   "version": "3.8.8"
  }
 },
 "nbformat": 4,
 "nbformat_minor": 5
}
